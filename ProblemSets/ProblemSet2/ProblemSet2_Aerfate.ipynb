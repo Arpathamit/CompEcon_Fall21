{
 "cells": [
  {
   "cell_type": "markdown",
   "metadata": {},
   "source": [
    "# <center> Problem Set 2 "
   ]
  },
  {
   "cell_type": "code",
   "execution_count": 1,
   "metadata": {},
   "outputs": [],
   "source": [
    "import numpy as np\n",
    "import pandas as pd"
   ]
  },
  {
   "cell_type": "markdown",
   "metadata": {},
   "source": [
    "## Part 1\n"
   ]
  },
  {
   "cell_type": "markdown",
   "metadata": {},
   "source": [
    "### Problem 1"
   ]
  },
  {
   "cell_type": "code",
   "execution_count": 2,
   "metadata": {},
   "outputs": [],
   "source": [
    "L=[2, 6, 25, 41, 32]\n",
    "#def Problem1(x):\n",
    "#    print(min(x), max(x), sum(x)/len(x))\n",
    "\n",
    "#one line function:\n",
    "Problem1 = lambda x: (print(min(x), max(x), sum(x)/len(x)))"
   ]
  },
  {
   "cell_type": "code",
   "execution_count": 3,
   "metadata": {},
   "outputs": [
    {
     "name": "stdout",
     "output_type": "stream",
     "text": [
      "2 41 21.2\n"
     ]
    }
   ],
   "source": [
    "Problem1(L)"
   ]
  },
  {
   "cell_type": "markdown",
   "metadata": {},
   "source": [
    "### Problem 2"
   ]
  },
  {
   "cell_type": "code",
   "execution_count": 4,
   "metadata": {},
   "outputs": [
    {
     "data": {
      "text/plain": [
       "False"
      ]
     },
     "execution_count": 4,
     "metadata": {},
     "output_type": "execute_result"
    }
   ],
   "source": [
    "#int\n",
    "int_1 = 2       # Create a dictionary.\n",
    "int_2 = int_1   # Assign it a new name.\n",
    "int_2 = 3    # Change the 'new' int.\n",
    "int_1 == int_2   # Compare the two names."
   ]
  },
  {
   "cell_type": "code",
   "execution_count": 5,
   "metadata": {},
   "outputs": [
    {
     "data": {
      "text/plain": [
       "False"
      ]
     },
     "execution_count": 5,
     "metadata": {},
     "output_type": "execute_result"
    }
   ],
   "source": [
    "#str\n",
    "str_1 = \"Computational\"\n",
    "str_2 = str_1\n",
    "str_2 = 'Econ'\n",
    "str_1 == str_2 \n"
   ]
  },
  {
   "cell_type": "code",
   "execution_count": 6,
   "metadata": {},
   "outputs": [
    {
     "data": {
      "text/plain": [
       "True"
      ]
     },
     "execution_count": 6,
     "metadata": {},
     "output_type": "execute_result"
    }
   ],
   "source": [
    "#list\n",
    "list_1 = [1, 3, 5, 7]\n",
    "list_2 = list_1\n",
    "list_2[1] = 2\n",
    "list_1 == list_2 "
   ]
  },
  {
   "cell_type": "code",
   "execution_count": 7,
   "metadata": {},
   "outputs": [
    {
     "data": {
      "text/plain": [
       "False"
      ]
     },
     "execution_count": 7,
     "metadata": {},
     "output_type": "execute_result"
    }
   ],
   "source": [
    "#tuple\n",
    "tuple_1 = (2, 4, 6, \"cool\")\n",
    "tuple_2 = tuple_1\n",
    "tuple_2 = (2, 4, 6, \"not cool\")\n",
    "tuple_1 == tuple_2 "
   ]
  },
  {
   "cell_type": "code",
   "execution_count": 8,
   "metadata": {},
   "outputs": [
    {
     "data": {
      "text/plain": [
       "True"
      ]
     },
     "execution_count": 8,
     "metadata": {},
     "output_type": "execute_result"
    }
   ],
   "source": [
    "#set\n",
    "set_1 =  {2, 2, 3}\n",
    "set_2 = set_1\n",
    "set_2.remove(2)\n",
    "set_1 == set_2 "
   ]
  },
  {
   "cell_type": "markdown",
   "metadata": {},
   "source": [
    "Therefore, only lists and sets are mutable, and int, str, and tuple are not mutable"
   ]
  },
  {
   "cell_type": "markdown",
   "metadata": {},
   "source": [
    "### Problem 3"
   ]
  },
  {
   "cell_type": "code",
   "execution_count": 9,
   "metadata": {},
   "outputs": [],
   "source": [
    "import calculator as cal\n",
    "from math import sqrt"
   ]
  },
  {
   "cell_type": "code",
   "execution_count": 10,
   "metadata": {},
   "outputs": [],
   "source": [
    "def hypotenuse(s1,s2):\n",
    "    result = sqrt(cal.add(cal.mul(s1,s1), cal.mul(s2,s2)))\n",
    "    return result"
   ]
  },
  {
   "cell_type": "code",
   "execution_count": 11,
   "metadata": {},
   "outputs": [
    {
     "data": {
      "text/plain": [
       "5.0"
      ]
     },
     "execution_count": 11,
     "metadata": {},
     "output_type": "execute_result"
    }
   ],
   "source": [
    "hypotenuse(3,4)"
   ]
  },
  {
   "cell_type": "markdown",
   "metadata": {},
   "source": [
    "## Part 2"
   ]
  },
  {
   "cell_type": "markdown",
   "metadata": {},
   "source": [
    "### Problem 1"
   ]
  },
  {
   "cell_type": "code",
   "execution_count": 12,
   "metadata": {},
   "outputs": [],
   "source": [
    "def matrixproduct(list1, list2):\n",
    "    l1=np.array(list1)\n",
    "    l2=np.array(list2)\n",
    "    result=l1@l2\n",
    "    return result"
   ]
  },
  {
   "cell_type": "code",
   "execution_count": 13,
   "metadata": {},
   "outputs": [
    {
     "data": {
      "text/plain": [
       "array([[ 37,  14, -32, -10],\n",
       "       [-54,  -7,  58,  65]])"
      ]
     },
     "execution_count": 13,
     "metadata": {},
     "output_type": "execute_result"
    }
   ],
   "source": [
    "A=[[3, -1, 4], [1, 5, -9]]\n",
    "B=[[2, 6, -5, 3], [5, -8, 9, 7], [9, -3, -2, -3]]\n",
    "\n",
    "matrixproduct(A,B)"
   ]
  },
  {
   "cell_type": "markdown",
   "metadata": {},
   "source": [
    "### Problem 2"
   ]
  },
  {
   "cell_type": "code",
   "execution_count": 14,
   "metadata": {},
   "outputs": [],
   "source": [
    "def Problem2_2(list1):\n",
    "    A=np.array(list1)\n",
    "    result = -(A@A@A) + 9*A@A - 15*A\n",
    "    return result"
   ]
  },
  {
   "cell_type": "code",
   "execution_count": 15,
   "metadata": {},
   "outputs": [
    {
     "data": {
      "text/plain": [
       "array([[0, 0, 0],\n",
       "       [0, 0, 0],\n",
       "       [0, 0, 0]])"
      ]
     },
     "execution_count": 15,
     "metadata": {},
     "output_type": "execute_result"
    }
   ],
   "source": [
    "A =[[3, 1, 4], [1, 5, 9], [-5, 3, 1]]\n",
    "Problem2_2(A)"
   ]
  },
  {
   "cell_type": "markdown",
   "metadata": {},
   "source": [
    "### Problem 5"
   ]
  },
  {
   "cell_type": "code",
   "execution_count": 16,
   "metadata": {},
   "outputs": [],
   "source": [
    "def Problem2_5(l1,l2,l3):\n",
    "    A=np.array(l1) \n",
    "    B= np.array(l2)\n",
    "    C= np.array(l3)\n",
    "    r1 = np.column_stack((np.zeros((3,3)), A.T, np.eye(3)))\n",
    "    r2 = np.column_stack((A, np.zeros((2, 2)), np.zeros_like(A)))\n",
    "    r3 = np.column_stack((B, np.zeros_like(A.T), C))\n",
    "    result = np.concatenate((r1, r2, r3))\n",
    "    return result\n"
   ]
  },
  {
   "cell_type": "code",
   "execution_count": 17,
   "metadata": {},
   "outputs": [
    {
     "data": {
      "text/plain": [
       "array([[ 0.,  0.,  0.,  0.,  1.,  1.,  0.,  0.],\n",
       "       [ 0.,  0.,  0.,  2.,  3.,  0.,  1.,  0.],\n",
       "       [ 0.,  0.,  0.,  4.,  5.,  0.,  0.,  1.],\n",
       "       [ 0.,  2.,  4.,  0.,  0.,  0.,  0.,  0.],\n",
       "       [ 1.,  3.,  5.,  0.,  0.,  0.,  0.,  0.],\n",
       "       [ 3.,  0.,  0.,  0.,  0., -2.,  0.,  0.],\n",
       "       [ 3.,  3.,  0.,  0.,  0.,  0., -2.,  0.],\n",
       "       [ 3.,  3.,  3.,  0.,  0.,  0.,  0., -2.]])"
      ]
     },
     "execution_count": 17,
     "metadata": {},
     "output_type": "execute_result"
    }
   ],
   "source": [
    "A = [[0, 2, 4], [1, 3, 5]]\n",
    "B = [[3, 0, 0], [3, 3, 0], [3, 3, 3]]\n",
    "C = [[-2, 0, 0], [0, -2, 0], [0, 0, -2]]\n",
    "Problem2_5(A,B,C)"
   ]
  },
  {
   "cell_type": "markdown",
   "metadata": {},
   "source": [
    "## Part 3"
   ]
  },
  {
   "cell_type": "markdown",
   "metadata": {},
   "source": [
    "### Problem 1"
   ]
  },
  {
   "cell_type": "code",
   "execution_count": 18,
   "metadata": {},
   "outputs": [],
   "source": [
    "import sys\n",
    "class Backpack:\n",
    "    \"\"\"A Backpack object class. Has a name and a list of contents.\n",
    "    Attributes:\n",
    "    name (str): the name of the backpack's owner.\n",
    "    contents (list): the contents of the backpack.\n",
    "    color(str): the color of the backpack.\n",
    "    max_size(int): maximum size of the contents. The default value is 5\n",
    "    \"\"\"\n",
    "    def __init__(self, name, color, max_size = 5): # This function is the constructor.\n",
    "        self.name = name\n",
    "        self.contents = []\n",
    "        self.color = color\n",
    "        self.max_size = max_size\n",
    "        \n",
    "    def put(self, item):\n",
    "        '''\n",
    "        Add 'item' to the backpack's list of contents.\n",
    "        If there are already max_size items or more, print “No Room!\n",
    "        and do not add the item to the contents list.\"\n",
    "        '''\n",
    "        if len(self.contents) >= self.max_size:\n",
    "            print(\"no room!\")\n",
    "        else:\n",
    "            self.contents.append(item)\n",
    "            \n",
    "    def take(self, item):\n",
    "        '''Remove 'item' from the backpack's list of contents.'''\n",
    "        self.contents.remove(item)\n",
    "        \n",
    "    def dump(self, item):\n",
    "        '''Resets the contents of the backpack to an empty list'''\n",
    "        self.contents = []\n",
    "        \n"
   ]
  },
  {
   "cell_type": "code",
   "execution_count": 19,
   "metadata": {},
   "outputs": [
    {
     "name": "stdout",
     "output_type": "stream",
     "text": [
      "no room!\n",
      "Contents: ['pencil', 'pen', 'paper', 'computer', 'aaa']\n"
     ]
    }
   ],
   "source": [
    "def test_backpack():\n",
    "    testpack = Backpack(\"Barry\", \"black\") # Instantiate the object.\n",
    "    if testpack.name != \"Barry\": # Test an attribute.\n",
    "        print(\"Backpack.name assigned incorrectly\")\n",
    "    for item in [\"pencil\", \"pen\", \"paper\", \"computer\",\"aaa\",\"bbb\"]:\n",
    "        testpack.put(item) # Test a method.\n",
    "    print(\"Contents:\", testpack.contents)\n",
    "test_backpack()"
   ]
  },
  {
   "cell_type": "markdown",
   "metadata": {},
   "source": [
    "### Problem 2"
   ]
  },
  {
   "cell_type": "code",
   "execution_count": 20,
   "metadata": {},
   "outputs": [],
   "source": [
    "class Jetpack(Backpack):\n",
    "    \"\"\"\n",
    "    Jackpack inherits from Backpack\n",
    "    Attributes:\n",
    "    name (str): the name of the backpack's owner.\n",
    "    contents (list): the contents of the backpack.\n",
    "    color(str): the color of the backpack.\n",
    "    max_size(int): maximum size of the contents. The default value is 5\n",
    "    fuel (int): an amount of fuel\n",
    "    \"\"\"      \n",
    "    def __init__(self, name, color, max_size = 2, fuel = 10):\n",
    "        Backpack.__init__(self, name, color, max_size)\n",
    "        self.fuel = fuel\n",
    "    \n",
    "    def fly(self, burn):\n",
    "        '''\n",
    "        burn (int): accepts an amount of fuel to be burned and decrements the fuel attribute by that amount\n",
    "        \n",
    "        if the fuel is not enough, print not enough fuel,\n",
    "        otherwise shows the amount after usage\n",
    "        '''\n",
    "        if burn > self.fuel:\n",
    "            print(\"Not enough fuel!\")\n",
    "        else:\n",
    "            fuelleft = self.fuel - burn\n",
    "            return fuelleft\n",
    "            \n",
    "    def dump(self):\n",
    "        '''\n",
    "        Override the dump() method in Backpack so that both the contents and the fuel tank are emptied\n",
    "        '''\n",
    "        self.contents = []\n",
    "        self.fuel = 0\n",
    "        return self.contents,self.fuel\n",
    "        print(dump())"
   ]
  },
  {
   "cell_type": "code",
   "execution_count": 21,
   "metadata": {},
   "outputs": [
    {
     "name": "stdout",
     "output_type": "stream",
     "text": [
      "no room!\n",
      "Contents: ['pencil', 'pen']\n",
      "Fuel Left: 3\n"
     ]
    }
   ],
   "source": [
    "def test_Jetpack():\n",
    "    testpack = Jetpack(\"Barry\", \"black\") # Instantiate the object.\n",
    "    if testpack.name != \"Barry\": # Test an attribute.\n",
    "        print(\"Backpack.name assigned incorrectly\")\n",
    "    for item in [\"pencil\", \"pen\", \"paper\"]:\n",
    "        testpack.put(item) # Test a method.\n",
    "    print(\"Contents:\", testpack.contents)\n",
    "    print(\"Fuel Left:\", testpack.fly(7))\n",
    "test_Jetpack()"
   ]
  },
  {
   "cell_type": "code",
   "execution_count": 22,
   "metadata": {},
   "outputs": [
    {
     "name": "stdout",
     "output_type": "stream",
     "text": [
      "([], 0)\n"
     ]
    }
   ],
   "source": [
    "test_Jetpack2 = Jetpack(\"Barry\", \"black\", fuel = 9)\n",
    "print(test_Jetpack2.dump())"
   ]
  }
 ],
 "metadata": {
  "kernelspec": {
   "display_name": "Python 3",
   "language": "python",
   "name": "python3"
  },
  "language_info": {
   "codemirror_mode": {
    "name": "ipython",
    "version": 3
   },
   "file_extension": ".py",
   "mimetype": "text/x-python",
   "name": "python",
   "nbconvert_exporter": "python",
   "pygments_lexer": "ipython3",
   "version": "3.8.3"
  }
 },
 "nbformat": 4,
 "nbformat_minor": 4
}
