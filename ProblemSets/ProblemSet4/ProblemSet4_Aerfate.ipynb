{
 "cells": [
  {
   "cell_type": "markdown",
   "metadata": {},
   "source": [
    "# <center> Problem Set 4"
   ]
  },
  {
   "cell_type": "code",
   "execution_count": 1,
   "metadata": {},
   "outputs": [],
   "source": [
    "import numpy as np\n",
    "import pandas as pd\n",
    "from scipy.stats import t\n",
    "from scipy.optimize import minimize\n",
    "from scipy import stats\n",
    "from scipy.optimize import fmin_bfgs\n",
    "import math\n",
    "import statsmodels.api as sm\n",
    "\n",
    "df = pd.read_stata(\"PS4_data.dta\")\n",
    "#df.describe()"
   ]
  },
  {
   "cell_type": "markdown",
   "metadata": {},
   "source": [
    "### 1. Select only male heads of household who are between 25 and 60 years of age and earn wages > $7/hr"
   ]
  },
  {
   "cell_type": "code",
   "execution_count": 2,
   "metadata": {},
   "outputs": [
    {
     "data": {
      "text/html": [
       "<div>\n",
       "<style scoped>\n",
       "    .dataframe tbody tr th:only-of-type {\n",
       "        vertical-align: middle;\n",
       "    }\n",
       "\n",
       "    .dataframe tbody tr th {\n",
       "        vertical-align: top;\n",
       "    }\n",
       "\n",
       "    .dataframe thead th {\n",
       "        text-align: right;\n",
       "    }\n",
       "</style>\n",
       "<table border=\"1\" class=\"dataframe\">\n",
       "  <thead>\n",
       "    <tr style=\"text-align: right;\">\n",
       "      <th></th>\n",
       "      <th>hsex</th>\n",
       "      <th>age</th>\n",
       "      <th>agesq</th>\n",
       "      <th>wage2</th>\n",
       "      <th>lnwage2</th>\n",
       "    </tr>\n",
       "  </thead>\n",
       "  <tbody>\n",
       "    <tr>\n",
       "      <th>count</th>\n",
       "      <td>57477.0</td>\n",
       "      <td>57477.000000</td>\n",
       "      <td>57477.000000</td>\n",
       "      <td>57477.000000</td>\n",
       "      <td>57477.000000</td>\n",
       "    </tr>\n",
       "    <tr>\n",
       "      <th>mean</th>\n",
       "      <td>1.0</td>\n",
       "      <td>39.224247</td>\n",
       "      <td>1629.789673</td>\n",
       "      <td>24.306034</td>\n",
       "      <td>3.010414</td>\n",
       "    </tr>\n",
       "    <tr>\n",
       "      <th>max</th>\n",
       "      <td>1.0</td>\n",
       "      <td>60.000000</td>\n",
       "      <td>3600.000000</td>\n",
       "      <td>1717.330322</td>\n",
       "      <td>7.448526</td>\n",
       "    </tr>\n",
       "    <tr>\n",
       "      <th>min</th>\n",
       "      <td>1.0</td>\n",
       "      <td>25.000000</td>\n",
       "      <td>625.000000</td>\n",
       "      <td>7.000252</td>\n",
       "      <td>1.945946</td>\n",
       "    </tr>\n",
       "  </tbody>\n",
       "</table>\n",
       "</div>"
      ],
      "text/plain": [
       "          hsex           age         agesq         wage2       lnwage2\n",
       "count  57477.0  57477.000000  57477.000000  57477.000000  57477.000000\n",
       "mean       1.0     39.224247   1629.789673     24.306034      3.010414\n",
       "max        1.0     60.000000   3600.000000   1717.330322      7.448526\n",
       "min        1.0     25.000000    625.000000      7.000252      1.945946"
      ]
     },
     "execution_count": 2,
     "metadata": {},
     "output_type": "execute_result"
    }
   ],
   "source": [
    "#create wage variable using income and work hours\n",
    "#df['wage'].describe()\n",
    "df['wage2'] = df['hlabinc']/df['hannhrs']\n",
    "df = df[(df.hsex==1)&(df.age>=25)&(df.age<=60)&(df.wage2>7)]\n",
    "\n",
    "#create log wage variable\n",
    "df['lnwage2'] = np.log(df['wage2'])\n",
    "df = df[df.lnwage2!=np.inf]\n",
    "\n",
    "#create age squared variable\n",
    "df['agesq'] = df['age']**2\n",
    "\n",
    "#df.agg({\"age\": [\"mean\", \"min\", \"max\"], \"hsex\": [\"mean\", \"min\", \"max\"]})\n",
    "sumstats=df[['hsex','age','agesq','wage2','lnwage2']]\n",
    "sumstats.describe().loc[['count','mean','max','min']]"
   ]
  },
  {
   "cell_type": "markdown",
   "metadata": {},
   "source": [
    "### 2. Create indicator and continuous variables as necessary"
   ]
  },
  {
   "cell_type": "code",
   "execution_count": 3,
   "metadata": {},
   "outputs": [],
   "source": [
    "#df['hrace'].describe()\n",
    "df['White'] = (df['hrace'] == 1).astype(int)\n",
    "df['Black'] = (df['hrace'] == 2).astype(int)\n",
    "df['Hispanic'] = (df['hrace'] == 5).astype(int)\n",
    "df['OtherRace'] = ((df['hrace']!=1)&(df['hrace']!=2)&(df['hrace']!=5)).astype(int)\n",
    "\n",
    "#create df for the model\n",
    "df = df[['lnwage2','hyrsed', 'age', 'agesq', 'Black', 'Hispanic', 'OtherRace', 'White', 'year']].dropna()"
   ]
  },
  {
   "cell_type": "markdown",
   "metadata": {},
   "source": [
    "### 3. Estimate the following model via a Maximum Likelihood Estimator separately for t = 1971, 1980, 1990, 2000"
   ]
  },
  {
   "cell_type": "markdown",
   "metadata": {},
   "source": [
    "#### Create Linear MLE Function"
   ]
  },
  {
   "cell_type": "markdown",
   "metadata": {},
   "source": [
    "Nomral Log-Likelihood function:\n",
    "\\begin{equation}\n",
    "\\begin{gathered}\n",
    "\\ln \\mathcal{L}(\\theta \\mid y, x)=-\\frac{n}{2} \\ln (2 \\pi)-\\frac{n}{2} \\ln \\left(\\sigma^{2}\\right)- \\frac{1}{2 \\sigma^{2}}(y-x \\beta)^{\\prime}(y-x \\beta)\n",
    "\\end{gathered}\n",
    "\\end{equation}"
   ]
  },
  {
   "cell_type": "code",
   "execution_count": 4,
   "metadata": {},
   "outputs": [],
   "source": [
    "class Linear_Model_MLE(object):\n",
    "    '''\n",
    "    This is a Class for Linear multiple regression model using MLE estimation\n",
    "    The Optimaization method is BFGS, but you can modify the code and use other methods\n",
    "    \n",
    "    Function Linear_MLE: calculate the values for coefficent estimates, SE, variance covariance matrix, t-stats, and \n",
    "    p-value\n",
    "    \n",
    "    Function Summary: return regression results\n",
    "                      For example: If you would like to see the regression summary table, \n",
    "                                   please write it like this example: Linear_Model_MLE(y,x, create_intercept=True).Summary()\n",
    "    \n",
    "    Inputs:\n",
    "    y: dependent variable (Type: pd Series)\n",
    "    x: independent variable (Type: pd DataFrame, or pd Series if there is only one x variable)\n",
    "    create_intercept: True or False (Type: bool). The default is True. Alter based on your model. \n",
    "    '''\n",
    "    \n",
    "    def __init__(self, y, x, create_intercept=True):\n",
    "        self.y = y\n",
    "        self.x = x\n",
    "        #self.y = self.y.to_numpy()\n",
    "        #self.x = self.x.to_numpy()\n",
    "        \n",
    "        if create_intercept:\n",
    "            self.x['intercept']=1\n",
    "            #self.x = self.x.assign(intercept=pd.Series([1]*np.shape(self.x)[0]))\n",
    "            self.x = self.x\n",
    "        else:\n",
    "            self.x = x\n",
    "\n",
    "        if isinstance(create_intercept, bool):\n",
    "            self.create_intercept = create_intercept\n",
    "        else:\n",
    "            raise RuntimeError(\"error\")        \n",
    "\n",
    "    def Linear_MLE(self):\n",
    "        self.xt = self.x.T\n",
    "        self.xx = self.xt @ (self.x)\n",
    "        self.xxi = np.linalg.inv(self.xx)\n",
    "\n",
    "        n = self.x.shape[0] #nrow\n",
    "        k = self.x.shape[1] #ncol\n",
    "        GuessVector = np.ones(k+1) # beta Vector is initial guess for beta value                \n",
    "        \n",
    "        def neglnL(theta):\n",
    "            beta=theta[:-1]  #everything but the last item\n",
    "            sigma=theta[-1:] #the last item\n",
    "            yhat = self.x@beta\n",
    "            \n",
    "            lnL = -(n/2)*np.log(2*math.pi) - (n/2)*np.log(sigma**2) - (1/(2*sigma **2)) * (self.y-yhat)@(self.y-yhat).T\n",
    "            #lnL = np.sum(stats.norm.logpdf(y, loc=yhat, scale=sigma)) #method 2\n",
    "            return -lnL\n",
    "          \n",
    "        estimates = minimize(neglnL, GuessVector, method='BFGS')\n",
    "        #estimates = fmin_bfgs(neglnL, x0=GuessVector, disp=False)\n",
    "        \n",
    "        bhat = estimates.x[:-1]\n",
    "        var = (1/n) * (self.y- self.x@bhat) @ (self.y- self.x@bhat).T\n",
    "        vcv = var * self.xxi\n",
    "        standard_error = np.sqrt(np.diag(vcv))\n",
    "        z_stat = bhat/standard_error\n",
    "        p_value = t.sf(np.abs(z_stat), n-k)*2  \n",
    "\n",
    "        self.results = {\"Variable name\": self.x.columns.values,\n",
    "                        \"coefficient\": bhat, \n",
    "                        \"standard_error\": standard_error, \n",
    "                        \"z_stat\": z_stat, \n",
    "                        \"p_value\": p_value, \n",
    "                        \"create_intercept\": self.create_intercept}\n",
    "     \n",
    "    def summary(self):\n",
    "        self.Linear_MLE()        \n",
    "        print(\"labels\",\"coefficient value\",\"standard error\",\"t-statistic\",\"p-value\",sep=\"\\t    \")\n",
    "        for i in range(len(self.results['Variable name'])):\n",
    "            results11 = str(self.results['Variable name'][i]) + '\\t' + '\\t     ' + str(round(self.results['coefficient'][i], 4)) + '\\t' + '\\t' + '\\t'  + str(round(self.results['standard_error'][i], 4)) + '\\t              '  + str(round(self.results['z_stat'][i], 4)) + '\\t    ' + str(round(self.results['p_value'][i], 4))\n",
    "            print(results11)"
   ]
  },
  {
   "cell_type": "markdown",
   "metadata": {},
   "source": [
    "### The model"
   ]
  },
  {
   "cell_type": "markdown",
   "metadata": {},
   "source": [
    "$\\ln \\left(w_{i, t}\\right)=\\alpha+\\beta_{1} E d u c_{i, t}+\\beta_{2}$ Age $_{i, t}+\\beta_{3} A g e_{i, t}^{2}+\\beta_{4}$ Black $_{i, t}+\\beta_{5}$ Hispanic $_{i, t}+\\beta_{6}$ OtherRace $_{i, t}+\\varepsilon_{i, t}$\n",
    "w\n",
    "where:\n",
    "- $w_{i, t}=$ wage of individual $i$ in survey year $t$\n",
    "- $E d u c_{i, t}=$ education in years\n",
    "- $A g e_{i, t}=$ age in years\n",
    "- Black$_{i, t}$, Hispanic$_{i, t}$, OtherRace$_{i, t}=$ dummy variables for race $=$ Black, Hispanic, Not $\\in\\{$ White, Black, Hispanic $\\}$."
   ]
  },
  {
   "cell_type": "markdown",
   "metadata": {},
   "source": [
    "#### Estimate the model if t = 1971"
   ]
  },
  {
   "cell_type": "code",
   "execution_count": 5,
   "metadata": {},
   "outputs": [
    {
     "name": "stderr",
     "output_type": "stream",
     "text": [
      "<ipython-input-4-d90ba91b1ae0>:26: SettingWithCopyWarning: \n",
      "A value is trying to be set on a copy of a slice from a DataFrame.\n",
      "Try using .loc[row_indexer,col_indexer] = value instead\n",
      "\n",
      "See the caveats in the documentation: https://pandas.pydata.org/pandas-docs/stable/user_guide/indexing.html#returning-a-view-versus-a-copy\n",
      "  self.x['intercept']=1\n"
     ]
    },
    {
     "name": "stdout",
     "output_type": "stream",
     "text": [
      "labels\t    coefficient value\t    standard error\t    t-statistic\t    p-value\n",
      "hyrsed\t\t     0.0665\t\t\t0.0037\t              17.9394\t    0.0\n",
      "age\t\t     0.0647\t\t\t0.0094\t              6.8585\t    0.0\n",
      "agesq\t\t     -0.0006\t\t\t0.0001\t              -5.3717\t    0.0\n",
      "Black\t\t     -0.1647\t\t\t0.0444\t              -3.7069\t    0.0002\n",
      "intercept\t\t     0.591\t\t\t0.1929\t              3.0638\t    0.0022\n"
     ]
    }
   ],
   "source": [
    "df71 = df[df.year == 1971]\n",
    "x = df71[['hyrsed', 'age', 'agesq', 'Black']]\n",
    "y = df71['lnwage2']\n",
    "Fit = Linear_Model_MLE(y,x, create_intercept=True)\n",
    "Fit.summary()"
   ]
  },
  {
   "cell_type": "code",
   "execution_count": 6,
   "metadata": {},
   "outputs": [],
   "source": [
    "#sm_OLS_fit = sm.OLS(endog=y, exog=x).fit()\n",
    "#sm_OLS_results= sm_OLS_fit.summary()\n",
    "#print(sm_OLS_results)"
   ]
  },
  {
   "cell_type": "markdown",
   "metadata": {},
   "source": [
    "#### Estimate the model if t = 1980"
   ]
  },
  {
   "cell_type": "code",
   "execution_count": 7,
   "metadata": {},
   "outputs": [
    {
     "name": "stderr",
     "output_type": "stream",
     "text": [
      "<ipython-input-4-d90ba91b1ae0>:26: SettingWithCopyWarning: \n",
      "A value is trying to be set on a copy of a slice from a DataFrame.\n",
      "Try using .loc[row_indexer,col_indexer] = value instead\n",
      "\n",
      "See the caveats in the documentation: https://pandas.pydata.org/pandas-docs/stable/user_guide/indexing.html#returning-a-view-versus-a-copy\n",
      "  self.x['intercept']=1\n"
     ]
    },
    {
     "name": "stdout",
     "output_type": "stream",
     "text": [
      "labels\t    coefficient value\t    standard error\t    t-statistic\t    p-value\n",
      "hyrsed\t\t     0.066\t\t\t0.0043\t              15.4827\t    0.0\n",
      "age\t\t     0.0454\t\t\t0.0096\t              4.7505\t    0.0\n",
      "agesq\t\t     -0.0004\t\t\t0.0001\t              -3.4405\t    0.0006\n",
      "Black\t\t     -0.1033\t\t\t0.0434\t              -2.3814\t    0.0173\n",
      "intercept\t\t     1.0064\t\t\t0.1915\t              5.2561\t    0.0\n"
     ]
    }
   ],
   "source": [
    "df80 = df[df.year == 1980]\n",
    "x = df80[['hyrsed', 'age', 'agesq', 'Black']]\n",
    "#x = df80[['hyrsed', 'age', 'agesq', 'Black', 'Hispanic', 'OtherRace']]\n",
    "y = df80['lnwage2']\n",
    "Fit = Linear_Model_MLE(y,x, create_intercept=True)\n",
    "Fit.summary()"
   ]
  },
  {
   "cell_type": "code",
   "execution_count": 8,
   "metadata": {},
   "outputs": [],
   "source": [
    "#sm_OLS_fit = sm.OLS(endog=y, exog=x).fit()\n",
    "#sm_OLS_results= sm_OLS_fit.summary()\n",
    "#print(sm_OLS_results)"
   ]
  },
  {
   "cell_type": "markdown",
   "metadata": {},
   "source": [
    "#### Estimate the model if t = 1990"
   ]
  },
  {
   "cell_type": "code",
   "execution_count": 9,
   "metadata": {},
   "outputs": [
    {
     "name": "stderr",
     "output_type": "stream",
     "text": [
      "<ipython-input-4-d90ba91b1ae0>:26: SettingWithCopyWarning: \n",
      "A value is trying to be set on a copy of a slice from a DataFrame.\n",
      "Try using .loc[row_indexer,col_indexer] = value instead\n",
      "\n",
      "See the caveats in the documentation: https://pandas.pydata.org/pandas-docs/stable/user_guide/indexing.html#returning-a-view-versus-a-copy\n",
      "  self.x['intercept']=1\n"
     ]
    },
    {
     "name": "stdout",
     "output_type": "stream",
     "text": [
      "labels\t    coefficient value\t    standard error\t    t-statistic\t    p-value\n",
      "hyrsed\t\t     0.0955\t\t\t0.0049\t              19.5775\t    0.0\n",
      "age\t\t     0.0577\t\t\t0.0106\t              5.4281\t    0.0\n",
      "agesq\t\t     -0.0005\t\t\t0.0001\t              -4.1911\t    0.0\n",
      "Black\t\t     -0.1672\t\t\t0.0475\t              -3.5201\t    0.0004\n",
      "intercept\t\t     0.2799\t\t\t0.2168\t              1.2909\t    0.1969\n"
     ]
    }
   ],
   "source": [
    "df90 = df[df.year == 1990]\n",
    "x = df90[['hyrsed', 'age', 'agesq', 'Black']]\n",
    "#x = df90[['hyrsed', 'age', 'agesq', 'Black', 'Hispanic', 'OtherRace']]\n",
    "y = df90['lnwage2']\n",
    "Fit = Linear_Model_MLE(y,x, create_intercept=True)\n",
    "Fit.summary()"
   ]
  },
  {
   "cell_type": "code",
   "execution_count": 10,
   "metadata": {},
   "outputs": [],
   "source": [
    "#sm_OLS_fit = sm.OLS(endog=y, exog=x).fit()\n",
    "#sm_OLS_results= sm_OLS_fit.summary()\n",
    "#print(sm_OLS_results)"
   ]
  },
  {
   "cell_type": "markdown",
   "metadata": {},
   "source": [
    "#### Estimate the model if t = 2000"
   ]
  },
  {
   "cell_type": "code",
   "execution_count": 11,
   "metadata": {},
   "outputs": [
    {
     "name": "stderr",
     "output_type": "stream",
     "text": [
      "<ipython-input-4-d90ba91b1ae0>:26: SettingWithCopyWarning: \n",
      "A value is trying to be set on a copy of a slice from a DataFrame.\n",
      "Try using .loc[row_indexer,col_indexer] = value instead\n",
      "\n",
      "See the caveats in the documentation: https://pandas.pydata.org/pandas-docs/stable/user_guide/indexing.html#returning-a-view-versus-a-copy\n",
      "  self.x['intercept']=1\n"
     ]
    },
    {
     "name": "stdout",
     "output_type": "stream",
     "text": [
      "labels\t    coefficient value\t    standard error\t    t-statistic\t    p-value\n",
      "hyrsed\t\t     0.1103\t\t\t0.0051\t              21.6438\t    0.0\n",
      "age\t\t     0.0841\t\t\t0.0102\t              8.2635\t    0.0\n",
      "agesq\t\t     -0.0009\t\t\t0.0001\t              -7.2251\t    0.0\n",
      "Black\t\t     -0.2578\t\t\t0.0473\t              -5.4504\t    0.0\n",
      "intercept\t\t     -0.2908\t\t\t0.2156\t              -1.3488\t    0.1775\n"
     ]
    }
   ],
   "source": [
    "df2000 = df[df.year == 2000]\n",
    "x = df2000[['hyrsed', 'age', 'agesq', 'Black']]\n",
    "#x = df2000[['hyrsed', 'age', 'agesq', 'Black', 'Hispanic', 'OtherRace']]\n",
    "y = df2000['lnwage2']\n",
    "Fit = Linear_Model_MLE(y,x, create_intercept=True)\n",
    "Fit.summary()"
   ]
  },
  {
   "cell_type": "markdown",
   "metadata": {},
   "source": [
    "#### Compare the MLE results against an StatsModel OLS estimator to confirm the results"
   ]
  },
  {
   "cell_type": "code",
   "execution_count": 12,
   "metadata": {},
   "outputs": [
    {
     "name": "stdout",
     "output_type": "stream",
     "text": [
      "                            OLS Regression Results                            \n",
      "==============================================================================\n",
      "Dep. Variable:                lnwage2   R-squared:                       0.222\n",
      "Model:                            OLS   Adj. R-squared:                  0.221\n",
      "Method:                 Least Squares   F-statistic:                     184.9\n",
      "Date:                Mon, 04 Oct 2021   Prob (F-statistic):          1.62e-139\n",
      "Time:                        00:51:22   Log-Likelihood:                -2055.8\n",
      "No. Observations:                2595   AIC:                             4122.\n",
      "Df Residuals:                    2590   BIC:                             4151.\n",
      "Df Model:                           4                                         \n",
      "Covariance Type:            nonrobust                                         \n",
      "==============================================================================\n",
      "                 coef    std err          t      P>|t|      [0.025      0.975]\n",
      "------------------------------------------------------------------------------\n",
      "hyrsed         0.1103      0.005     21.623      0.000       0.100       0.120\n",
      "age            0.0844      0.010      8.284      0.000       0.064       0.104\n",
      "agesq         -0.0009      0.000     -7.246      0.000      -0.001      -0.001\n",
      "Black         -0.2574      0.047     -5.437      0.000      -0.350      -0.165\n",
      "intercept     -0.2964      0.216     -1.373      0.170      -0.720       0.127\n",
      "==============================================================================\n",
      "Omnibus:                      315.204   Durbin-Watson:                   1.991\n",
      "Prob(Omnibus):                  0.000   Jarque-Bera (JB):              762.114\n",
      "Skew:                           0.698   Prob(JB):                    3.23e-166\n",
      "Kurtosis:                       5.259   Cond. No.                     4.02e+04\n",
      "==============================================================================\n",
      "\n",
      "Warnings:\n",
      "[1] Standard Errors assume that the covariance matrix of the errors is correctly specified.\n",
      "[2] The condition number is large, 4.02e+04. This might indicate that there are\n",
      "strong multicollinearity or other numerical problems.\n"
     ]
    }
   ],
   "source": [
    "sm_OLS_fit = sm.OLS(endog=y, exog=x).fit()\n",
    "sm_OLS_results= sm_OLS_fit.summary()\n",
    "print(sm_OLS_results)"
   ]
  },
  {
   "cell_type": "markdown",
   "metadata": {},
   "source": [
    "#### MLE vs OLS"
   ]
  },
  {
   "cell_type": "markdown",
   "metadata": {},
   "source": [
    "My MLE model results are very similar to the StatsModel OLS results in terms of coefficents, SE, t-statisics, and p-value. I only showed the StatsModel OLS results for 2000. If you would like to see the StatsModel OLS result for other year, please uncomment the code provided, and run the code."
   ]
  },
  {
   "cell_type": "markdown",
   "metadata": {},
   "source": [
    "### 4. Interpret the coefficient β1. How do the returns to education change over time in these data?"
   ]
  },
  {
   "cell_type": "markdown",
   "metadata": {},
   "source": [
    "I did not include Other_Race, Hispanic in the model because there are only a few observations. Although including Other_Race, Hispanic work in the OLS models, I used matrices in the MLE models. If I include those variables, it would have a singular matrix"
   ]
  },
  {
   "cell_type": "markdown",
   "metadata": {},
   "source": [
    "The model suggests that all else equal, the positive effect of education on wages has increased over the years. In other words, the wage between the less educated people and highly educated people has increased. For example, the models suggest in 1971 and 1980, one more year of education lead to around a 0.066 dollar increase in wages. However, in 2000, the effect has increased to around 0.11 dollars. The wage variable is statistically significant in all models at a 1% level of significance. The wages in the model are deflated to 2005."
   ]
  },
  {
   "cell_type": "code",
   "execution_count": null,
   "metadata": {},
   "outputs": [],
   "source": []
  }
 ],
 "metadata": {
  "kernelspec": {
   "display_name": "Python 3",
   "language": "python",
   "name": "python3"
  },
  "language_info": {
   "codemirror_mode": {
    "name": "ipython",
    "version": 3
   },
   "file_extension": ".py",
   "mimetype": "text/x-python",
   "name": "python",
   "nbconvert_exporter": "python",
   "pygments_lexer": "ipython3",
   "version": "3.8.3"
  }
 },
 "nbformat": 4,
 "nbformat_minor": 4
}
