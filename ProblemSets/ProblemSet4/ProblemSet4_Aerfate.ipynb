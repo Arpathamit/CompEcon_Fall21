{
 "cells": [
  {
   "cell_type": "markdown",
   "metadata": {},
   "source": [
    "# <center> Problem Set 4"
   ]
  },
  {
   "cell_type": "code",
   "execution_count": 1,
   "metadata": {},
   "outputs": [],
   "source": [
    "import numpy as np\n",
    "import pandas as pd\n",
    "from scipy.stats import t\n",
    "from scipy.optimize import minimize\n",
    "from scipy import stats\n",
    "from scipy.optimize import fmin_bfgs\n",
    "import math\n",
    "import statsmodels.api as sm\n",
    "\n",
    "df = pd.read_stata(\"PS4_data.dta\")\n",
    "#df.describe()"
   ]
  },
  {
   "cell_type": "markdown",
   "metadata": {},
   "source": [
    "### 1. Select only male heads of household who are between 25 and 60 years of age and earn wages > $7/hr"
   ]
  },
  {
   "cell_type": "code",
   "execution_count": 2,
   "metadata": {},
   "outputs": [
    {
     "data": {
      "text/html": [
       "<div>\n",
       "<style scoped>\n",
       "    .dataframe tbody tr th:only-of-type {\n",
       "        vertical-align: middle;\n",
       "    }\n",
       "\n",
       "    .dataframe tbody tr th {\n",
       "        vertical-align: top;\n",
       "    }\n",
       "\n",
       "    .dataframe thead th {\n",
       "        text-align: right;\n",
       "    }\n",
       "</style>\n",
       "<table border=\"1\" class=\"dataframe\">\n",
       "  <thead>\n",
       "    <tr style=\"text-align: right;\">\n",
       "      <th></th>\n",
       "      <th>hsex</th>\n",
       "      <th>age</th>\n",
       "      <th>agesq</th>\n",
       "      <th>wage2</th>\n",
       "      <th>lnwage2</th>\n",
       "    </tr>\n",
       "  </thead>\n",
       "  <tbody>\n",
       "    <tr>\n",
       "      <th>count</th>\n",
       "      <td>57477.0</td>\n",
       "      <td>57477.000000</td>\n",
       "      <td>57477.000000</td>\n",
       "      <td>57477.000000</td>\n",
       "      <td>57477.000000</td>\n",
       "    </tr>\n",
       "    <tr>\n",
       "      <th>mean</th>\n",
       "      <td>1.0</td>\n",
       "      <td>39.224247</td>\n",
       "      <td>1629.789673</td>\n",
       "      <td>24.306034</td>\n",
       "      <td>3.010414</td>\n",
       "    </tr>\n",
       "    <tr>\n",
       "      <th>max</th>\n",
       "      <td>1.0</td>\n",
       "      <td>60.000000</td>\n",
       "      <td>3600.000000</td>\n",
       "      <td>1717.330322</td>\n",
       "      <td>7.448526</td>\n",
       "    </tr>\n",
       "    <tr>\n",
       "      <th>min</th>\n",
       "      <td>1.0</td>\n",
       "      <td>25.000000</td>\n",
       "      <td>625.000000</td>\n",
       "      <td>7.000252</td>\n",
       "      <td>1.945946</td>\n",
       "    </tr>\n",
       "  </tbody>\n",
       "</table>\n",
       "</div>"
      ],
      "text/plain": [
       "          hsex           age         agesq         wage2       lnwage2\n",
       "count  57477.0  57477.000000  57477.000000  57477.000000  57477.000000\n",
       "mean       1.0     39.224247   1629.789673     24.306034      3.010414\n",
       "max        1.0     60.000000   3600.000000   1717.330322      7.448526\n",
       "min        1.0     25.000000    625.000000      7.000252      1.945946"
      ]
     },
     "execution_count": 2,
     "metadata": {},
     "output_type": "execute_result"
    }
   ],
   "source": [
    "#create wage variable using income and work hours\n",
    "#df['wage'].describe()\n",
    "df['wage2'] = df['hlabinc']/df['hannhrs']\n",
    "df = df[(df.hsex==1)&(df.age>=25)&(df.age<=60)&(df.wage2>7)]\n",
    "\n",
    "#create log wage variable\n",
    "df['lnwage2'] = np.log(df['wage2'])\n",
    "df = df[df.lnwage2!=np.inf]\n",
    "\n",
    "#create age squared variable\n",
    "df['agesq'] = df['age']**2\n",
    "\n",
    "#df.agg({\"age\": [\"mean\", \"min\", \"max\"], \"hsex\": [\"mean\", \"min\", \"max\"]})\n",
    "sumstats=df[['hsex','age','agesq','wage2','lnwage2']]\n",
    "sumstats.describe().loc[['count','mean','max','min']]"
   ]
  },
  {
   "cell_type": "markdown",
   "metadata": {},
   "source": [
    "### 2. Create indicator and continuous variables as necessary"
   ]
  },
  {
   "cell_type": "code",
   "execution_count": 3,
   "metadata": {},
   "outputs": [
    {
     "data": {
      "text/html": [
       "<div>\n",
       "<style scoped>\n",
       "    .dataframe tbody tr th:only-of-type {\n",
       "        vertical-align: middle;\n",
       "    }\n",
       "\n",
       "    .dataframe tbody tr th {\n",
       "        vertical-align: top;\n",
       "    }\n",
       "\n",
       "    .dataframe thead th {\n",
       "        text-align: right;\n",
       "    }\n",
       "</style>\n",
       "<table border=\"1\" class=\"dataframe\">\n",
       "  <thead>\n",
       "    <tr style=\"text-align: right;\">\n",
       "      <th></th>\n",
       "      <th>Black</th>\n",
       "      <th>Hispanic</th>\n",
       "      <th>OtherRace</th>\n",
       "      <th>White</th>\n",
       "    </tr>\n",
       "  </thead>\n",
       "  <tbody>\n",
       "    <tr>\n",
       "      <th>count</th>\n",
       "      <td>57097.000000</td>\n",
       "      <td>57097.0</td>\n",
       "      <td>57097.000000</td>\n",
       "      <td>57097.000000</td>\n",
       "    </tr>\n",
       "    <tr>\n",
       "      <th>mean</th>\n",
       "      <td>0.056343</td>\n",
       "      <td>0.0</td>\n",
       "      <td>0.023119</td>\n",
       "      <td>0.920539</td>\n",
       "    </tr>\n",
       "    <tr>\n",
       "      <th>max</th>\n",
       "      <td>1.000000</td>\n",
       "      <td>0.0</td>\n",
       "      <td>1.000000</td>\n",
       "      <td>1.000000</td>\n",
       "    </tr>\n",
       "    <tr>\n",
       "      <th>min</th>\n",
       "      <td>0.000000</td>\n",
       "      <td>0.0</td>\n",
       "      <td>0.000000</td>\n",
       "      <td>0.000000</td>\n",
       "    </tr>\n",
       "  </tbody>\n",
       "</table>\n",
       "</div>"
      ],
      "text/plain": [
       "              Black  Hispanic     OtherRace         White\n",
       "count  57097.000000   57097.0  57097.000000  57097.000000\n",
       "mean       0.056343       0.0      0.023119      0.920539\n",
       "max        1.000000       0.0      1.000000      1.000000\n",
       "min        0.000000       0.0      0.000000      0.000000"
      ]
     },
     "execution_count": 3,
     "metadata": {},
     "output_type": "execute_result"
    }
   ],
   "source": [
    "#df['hrace'].describe()\n",
    "df['White'] = (df['hrace'] == 1).astype(int)\n",
    "df['Black'] = (df['hrace'] == 2).astype(int)\n",
    "df['Hispanic'] = (df['hrace'] == 5).astype(int)\n",
    "df['OtherRace'] = ((df['hrace']!=1)&(df['hrace']!=2)&(df['hrace']!=5)).astype(int)\n",
    "\n",
    "#create df for the model\n",
    "df = df[['lnwage2','hyrsed', 'age', 'agesq', 'Black', 'Hispanic', 'OtherRace', 'White', 'year']].dropna()\n",
    "\n",
    "#df.agg({\"age\": [\"mean\", \"min\", \"max\"], \"hsex\": [\"mean\", \"min\", \"max\"]})\n",
    "sumstats=df[['Black', 'Hispanic', 'OtherRace', 'White']]\n",
    "sumstats.describe().loc[['count','mean','max','min']]"
   ]
  },
  {
   "cell_type": "markdown",
   "metadata": {},
   "source": [
    "### 3. Estimate the following model via a Maximum Likelihood Estimator separately for t = 1971, 1980, 1990, 2000"
   ]
  },
  {
   "cell_type": "markdown",
   "metadata": {},
   "source": [
    "#### Create Linear MLE Function"
   ]
  },
  {
   "cell_type": "markdown",
   "metadata": {},
   "source": [
    "Nomral Log-Likelihood function:\n",
    "\\begin{equation}\n",
    "\\begin{gathered}\n",
    "\\ln \\mathcal{L}(\\theta \\mid y, x)=-\\frac{n}{2} \\ln (2 \\pi)-\\frac{n}{2} \\ln \\left(\\sigma^{2}\\right)- \\frac{1}{2 \\sigma^{2}}(y-x \\beta)^{\\prime}(y-x \\beta)\n",
    "\\end{gathered}\n",
    "\\end{equation}"
   ]
  },
  {
   "cell_type": "code",
   "execution_count": 4,
   "metadata": {},
   "outputs": [],
   "source": [
    "class Linear_Model_MLE(object):\n",
    "    '''\n",
    "    This is a Class for Linear multiple regression model using MLE estimation\n",
    "    The Optimaization method is BFGS, but you can modify the code and use other methods\n",
    "    \n",
    "    Function Linear_MLE: calculate the values for coefficent estimates, SE, variance covariance matrix, t-stats, and \n",
    "    p-value\n",
    "    \n",
    "    Function Summary: return regression results\n",
    "                      For example: If you would like to see the regression summary table, \n",
    "                                   please write it like this example: Linear_Model_MLE(y,x, create_intercept=True).Summary()\n",
    "    \n",
    "    The class automatically delete variables that have only zero values.\n",
    "    It is because if a variable has all zero values, the matrix would be singlular. \n",
    "    Please still make sure to use your variable only if it has relatively large enough non-zero observation \n",
    "    because the model would lose degree of freedom as you add more variables.\n",
    "   \n",
    "   Inputs:\n",
    "    y: dependent variable (Type: pd Series)\n",
    "    x: independent variable (Type: pd DataFrame, or pd Series if there is only one x variable)\n",
    "    create_intercept: True or False (Type: bool). The default is True. Alter based on your model. \n",
    "    '''\n",
    "    \n",
    "    def __init__(self, y, x, create_intercept=True):\n",
    "        self.y = y\n",
    "        #self.x = x\n",
    "        self.x = x.loc[:, (df != 0).any(axis=0)] #drop if variable is all zero\n",
    "\n",
    "        if create_intercept:\n",
    "            self.x['intercept']=1\n",
    "            #self.x = self.x.assign(intercept=pd.Series([1]*np.shape(self.x)[0]))\n",
    "            self.x = self.x\n",
    "        else:\n",
    "            self.x = x\n",
    "\n",
    "        if isinstance(create_intercept, bool):\n",
    "            self.create_intercept = create_intercept\n",
    "        else:\n",
    "            raise RuntimeError(\"error\")        \n",
    "\n",
    "    def Linear_MLE(self):\n",
    "        self.xt = self.x.T\n",
    "        self.xx = self.xt @ (self.x)\n",
    "        self.xxi = np.linalg.inv(self.xx)\n",
    "\n",
    "        n = self.x.shape[0] #nrow\n",
    "        k = self.x.shape[1] #ncol\n",
    "        GuessVector = np.ones(k+1) # beta Vector is initial guess for beta value                \n",
    "        \n",
    "        def neglnL(theta):\n",
    "            beta=theta[:-1]  #everything but the last item\n",
    "            sigma=theta[-1:] #the last item\n",
    "            yhat = self.x@beta\n",
    "            \n",
    "            lnL = -(n/2)*np.log(2*math.pi) - (n/2)*np.log(sigma**2) - (1/(2*sigma **2)) * (self.y-yhat)@(self.y-yhat).T\n",
    "            #lnL = np.sum(stats.norm.logpdf(y, loc=yhat, scale=sigma)) #method 2\n",
    "            return -lnL\n",
    "          \n",
    "        estimates = minimize(neglnL, GuessVector, method='BFGS')\n",
    "        #estimates = fmin_bfgs(neglnL, x0=GuessVector, disp=False)\n",
    "        \n",
    "        bhat = estimates.x[:-1]\n",
    "        var = (1/n) * (self.y- self.x@bhat) @ (self.y- self.x@bhat).T\n",
    "        vcv = var * self.xxi\n",
    "        standard_error = np.sqrt(np.diag(vcv))\n",
    "        z_stat = bhat/standard_error\n",
    "        p_value = t.sf(np.abs(z_stat), n-k)*2  \n",
    "\n",
    "        self.results = {\"Variable name\": self.x.columns.values,\n",
    "                        \"coefficient\": bhat, \n",
    "                        \"standard_error\": standard_error, \n",
    "                        \"z_stat\": z_stat, \n",
    "                        \"p_value\": p_value, \n",
    "                        \"create_intercept\": self.create_intercept}\n",
    "     \n",
    "    def summary(self):\n",
    "        self.Linear_MLE()        \n",
    "        print(\"labels\",\"coefficient value\",\"standard error\",\"t-statistic\",\"p-value\",sep=\"\\t    \")\n",
    "        for i in range(len(self.results['Variable name'])):\n",
    "            results11 = str(self.results['Variable name'][i]) + '\\t' + '\\t     ' + str(round(self.results['coefficient'][i], 4)) + '\\t' + '\\t' + '\\t'  + str(round(self.results['standard_error'][i], 4)) + '\\t              '  + str(round(self.results['z_stat'][i], 4)) + '\\t    ' + str(round(self.results['p_value'][i], 4))\n",
    "            print(results11)"
   ]
  },
  {
   "cell_type": "markdown",
   "metadata": {},
   "source": [
    "### The model"
   ]
  },
  {
   "cell_type": "markdown",
   "metadata": {},
   "source": [
    "$\\ln \\left(w_{i, t}\\right)=\\alpha+\\beta_{1} E d u c_{i, t}+\\beta_{2}$ Age $_{i, t}+\\beta_{3} A g e_{i, t}^{2}+\\beta_{4}$ Black $_{i, t}+\\beta_{5}$ Hispanic $_{i, t}+\\beta_{6}$ OtherRace $_{i, t}+\\varepsilon_{i, t}$\n",
    "w\n",
    "where:\n",
    "- $w_{i, t}=$ wage of individual $i$ in survey year $t$\n",
    "- $E d u c_{i, t}=$ education in years\n",
    "- $A g e_{i, t}=$ age in years\n",
    "- Black$_{i, t}$, Hispanic$_{i, t}$, OtherRace$_{i, t}=$ dummy variables for race $=$ Black, Hispanic, Not $\\in\\{$ White, Black, Hispanic $\\}$."
   ]
  },
  {
   "cell_type": "markdown",
   "metadata": {},
   "source": [
    "#### Estimate the model if t = 1971"
   ]
  },
  {
   "cell_type": "code",
   "execution_count": 5,
   "metadata": {},
   "outputs": [
    {
     "name": "stdout",
     "output_type": "stream",
     "text": [
      "labels\t    coefficient value\t    standard error\t    t-statistic\t    p-value\n",
      "hyrsed\t\t     0.0665\t\t\t0.0037\t              17.929\t    0.0\n",
      "age\t\t     0.0647\t\t\t0.0094\t              6.847\t    0.0\n",
      "agesq\t\t     -0.0006\t\t\t0.0001\t              -5.3594\t    0.0\n",
      "Black\t\t     -0.1642\t\t\t0.0445\t              -3.6891\t    0.0002\n",
      "OtherRace\t\t     0.0176\t\t\t0.0678\t              0.2591\t    0.7956\n",
      "intercept\t\t     0.5911\t\t\t0.1929\t              3.0645\t    0.0022\n"
     ]
    }
   ],
   "source": [
    "df71 = df[df.year == 1971]\n",
    "x = df71[['hyrsed', 'age', 'agesq', 'Black', 'Hispanic', 'OtherRace']]\n",
    "y = df71['lnwage2']\n",
    "Fit = Linear_Model_MLE(y,x, create_intercept=True)\n",
    "Fit.summary()"
   ]
  },
  {
   "cell_type": "code",
   "execution_count": 6,
   "metadata": {},
   "outputs": [],
   "source": [
    "#sm_OLS_fit = sm.OLS(endog=y, exog=x).fit()\n",
    "#sm_OLS_results= sm_OLS_fit.summary()\n",
    "#print(sm_OLS_results)"
   ]
  },
  {
   "cell_type": "markdown",
   "metadata": {},
   "source": [
    "#### Estimate the model if t = 1980"
   ]
  },
  {
   "cell_type": "code",
   "execution_count": 7,
   "metadata": {},
   "outputs": [
    {
     "name": "stdout",
     "output_type": "stream",
     "text": [
      "labels\t    coefficient value\t    standard error\t    t-statistic\t    p-value\n",
      "hyrsed\t\t     0.066\t\t\t0.0043\t              15.4805\t    0.0\n",
      "age\t\t     0.0455\t\t\t0.0096\t              4.7594\t    0.0\n",
      "agesq\t\t     -0.0004\t\t\t0.0001\t              -3.4495\t    0.0006\n",
      "Black\t\t     -0.103\t\t\t0.0434\t              -2.3721\t    0.0178\n",
      "OtherRace\t\t     0.0126\t\t\t0.0708\t              0.178\t    0.8588\n",
      "intercept\t\t     1.0044\t\t\t0.1915\t              5.2456\t    0.0\n"
     ]
    }
   ],
   "source": [
    "df80 = df[df.year == 1980]\n",
    "x = df80[['hyrsed', 'age', 'agesq', 'Black', 'Hispanic', 'OtherRace']]\n",
    "y = df80['lnwage2']\n",
    "Fit = Linear_Model_MLE(y,x, create_intercept=True)\n",
    "Fit.summary()"
   ]
  },
  {
   "cell_type": "code",
   "execution_count": 8,
   "metadata": {},
   "outputs": [],
   "source": [
    "#sm_OLS_fit = sm.OLS(endog=y, exog=x).fit()\n",
    "#sm_OLS_results= sm_OLS_fit.summary()\n",
    "#print(sm_OLS_results)"
   ]
  },
  {
   "cell_type": "markdown",
   "metadata": {},
   "source": [
    "#### Estimate the model if t = 1990"
   ]
  },
  {
   "cell_type": "code",
   "execution_count": 9,
   "metadata": {},
   "outputs": [
    {
     "name": "stdout",
     "output_type": "stream",
     "text": [
      "labels\t    coefficient value\t    standard error\t    t-statistic\t    p-value\n",
      "hyrsed\t\t     0.0955\t\t\t0.0049\t              19.5832\t    0.0\n",
      "age\t\t     0.0576\t\t\t0.0106\t              5.4166\t    0.0\n",
      "agesq\t\t     -0.0005\t\t\t0.0001\t              -4.1786\t    0.0\n",
      "Black\t\t     -0.1681\t\t\t0.0475\t              -3.5371\t    0.0004\n",
      "OtherRace\t\t     -0.052\t\t\t0.0886\t              -0.587\t    0.5572\n",
      "intercept\t\t     0.2825\t\t\t0.2168\t              1.3028\t    0.1928\n"
     ]
    }
   ],
   "source": [
    "df90 = df[df.year == 1990]\n",
    "x = df90[['hyrsed', 'age', 'agesq', 'Black', 'Hispanic', 'OtherRace']]\n",
    "y = df90['lnwage2']\n",
    "Fit = Linear_Model_MLE(y,x, create_intercept=True)\n",
    "Fit.summary()"
   ]
  },
  {
   "cell_type": "code",
   "execution_count": 10,
   "metadata": {},
   "outputs": [],
   "source": [
    "#sm_OLS_fit = sm.OLS(endog=y, exog=x).fit()\n",
    "#sm_OLS_results= sm_OLS_fit.summary()\n",
    "#print(sm_OLS_results)"
   ]
  },
  {
   "cell_type": "markdown",
   "metadata": {},
   "source": [
    "#### Estimate the model if t = 2000"
   ]
  },
  {
   "cell_type": "code",
   "execution_count": 11,
   "metadata": {},
   "outputs": [
    {
     "name": "stdout",
     "output_type": "stream",
     "text": [
      "labels\t    coefficient value\t    standard error\t    t-statistic\t    p-value\n",
      "hyrsed\t\t     0.1103\t\t\t0.0051\t              21.6434\t    0.0\n",
      "age\t\t     0.0839\t\t\t0.0102\t              8.2469\t    0.0\n",
      "agesq\t\t     -0.0009\t\t\t0.0001\t              -7.2132\t    0.0\n",
      "Black\t\t     -0.2597\t\t\t0.0473\t              -5.4849\t    0.0\n",
      "OtherRace\t\t     -0.0553\t\t\t0.0546\t              -1.0138\t    0.3108\n",
      "intercept\t\t     -0.2838\t\t\t0.2156\t              -1.3159\t    0.1883\n"
     ]
    }
   ],
   "source": [
    "df2000 = df[df.year == 2000]\n",
    "x = df2000[['hyrsed', 'age', 'agesq', 'Black', 'Hispanic', 'OtherRace']]\n",
    "y = df2000['lnwage2']\n",
    "Fit = Linear_Model_MLE(y,x, create_intercept=True)\n",
    "Fit.summary()"
   ]
  },
  {
   "cell_type": "markdown",
   "metadata": {},
   "source": [
    "#### Compare the MLE results against an StatsModel OLS estimator to confirm the results"
   ]
  },
  {
   "cell_type": "code",
   "execution_count": 12,
   "metadata": {},
   "outputs": [
    {
     "name": "stdout",
     "output_type": "stream",
     "text": [
      "                            OLS Regression Results                            \n",
      "==============================================================================\n",
      "Dep. Variable:                lnwage2   R-squared:                       0.222\n",
      "Model:                            OLS   Adj. R-squared:                  0.221\n",
      "Method:                 Least Squares   F-statistic:                     148.1\n",
      "Date:                Mon, 04 Oct 2021   Prob (F-statistic):          1.41e-138\n",
      "Time:                        12:21:25   Log-Likelihood:                -2055.3\n",
      "No. Observations:                2595   AIC:                             4123.\n",
      "Df Residuals:                    2589   BIC:                             4158.\n",
      "Df Model:                           5                                         \n",
      "Covariance Type:            nonrobust                                         \n",
      "==============================================================================\n",
      "                 coef    std err          t      P>|t|      [0.025      0.975]\n",
      "------------------------------------------------------------------------------\n",
      "const         -0.2902      0.216     -1.344      0.179      -0.714       0.133\n",
      "hyrsed         0.1103      0.005     21.619      0.000       0.100       0.120\n",
      "age            0.0842      0.010      8.269      0.000       0.064       0.104\n",
      "agesq         -0.0009      0.000     -7.237      0.000      -0.001      -0.001\n",
      "Black         -0.2597      0.047     -5.480      0.000      -0.353      -0.167\n",
      "Hispanic            0          0        nan        nan           0           0\n",
      "OtherRace     -0.0553      0.055     -1.013      0.311      -0.163       0.052\n",
      "==============================================================================\n",
      "Omnibus:                      315.579   Durbin-Watson:                   1.989\n",
      "Prob(Omnibus):                  0.000   Jarque-Bera (JB):              762.873\n",
      "Skew:                           0.699   Prob(JB):                    2.21e-166\n",
      "Kurtosis:                       5.259   Cond. No.                     9.39e+22\n",
      "==============================================================================\n",
      "\n",
      "Warnings:\n",
      "[1] Standard Errors assume that the covariance matrix of the errors is correctly specified.\n",
      "[2] The smallest eigenvalue is 1.12e-36. This might indicate that there are\n",
      "strong multicollinearity problems or that the design matrix is singular.\n"
     ]
    },
    {
     "name": "stderr",
     "output_type": "stream",
     "text": [
      "C:\\Users\\haimiti.aerfate\\Softwares\\anaconda3\\lib\\site-packages\\statsmodels\\base\\model.py:1362: RuntimeWarning: invalid value encountered in true_divide\n",
      "  return self.params / self.bse\n",
      "C:\\Users\\haimiti.aerfate\\Softwares\\anaconda3\\lib\\site-packages\\scipy\\stats\\_distn_infrastructure.py:1932: RuntimeWarning: invalid value encountered in less_equal\n",
      "  cond2 = cond0 & (x <= _a)\n"
     ]
    }
   ],
   "source": [
    "X=sm.add_constant(x)\n",
    "sm_OLS_fit = sm.OLS(endog=y, exog=X).fit()\n",
    "sm_OLS_results= sm_OLS_fit.summary()\n",
    "print(sm_OLS_results)"
   ]
  },
  {
   "cell_type": "markdown",
   "metadata": {},
   "source": [
    "#### MLE vs OLS"
   ]
  },
  {
   "cell_type": "markdown",
   "metadata": {},
   "source": [
    "My MLE model results are very similar to the StatsModel OLS results in terms of coefficients, SE, t-statistics, and p-value. I only showed the StatsModel OLS results for 2000. If you would like to see the StatsModel OLS result for another year, please uncomment the code provided, and run the code."
   ]
  },
  {
   "cell_type": "markdown",
   "metadata": {},
   "source": [
    "### 4. Interpret the coefficient β1. How do the returns to education change over time in these data?"
   ]
  },
  {
   "cell_type": "markdown",
   "metadata": {},
   "source": [
    "Since the Hispanic variable has only zero values, the regression result does not include Hispanic. I made my MLE model to delete a variable if it only has all zero values. It is because if there a all zero variable, the matrix would be singlular. "
   ]
  },
  {
   "cell_type": "markdown",
   "metadata": {},
   "source": [
    "The model suggests that all else equal, the positive effect of education on wages has increased over the years. In other words, the wage between the less educated people and highly educated people has increased. For example, the models suggest in 1971 and 1980, one more year of education lead to around a 0.066 dollar increase in wages. However, in 1990 and 2000, the effect has increased to around 0.096 and 0.11 dollars respectively. The wage variable is statistically significant in all models at a 1% level of significance. The wages in the model are deflated to 2005."
   ]
  },
  {
   "cell_type": "code",
   "execution_count": null,
   "metadata": {},
   "outputs": [],
   "source": []
  }
 ],
 "metadata": {
  "kernelspec": {
   "display_name": "Python 3",
   "language": "python",
   "name": "python3"
  },
  "language_info": {
   "codemirror_mode": {
    "name": "ipython",
    "version": 3
   },
   "file_extension": ".py",
   "mimetype": "text/x-python",
   "name": "python",
   "nbconvert_exporter": "python",
   "pygments_lexer": "ipython3",
   "version": "3.8.3"
  }
 },
 "nbformat": 4,
 "nbformat_minor": 4
}
